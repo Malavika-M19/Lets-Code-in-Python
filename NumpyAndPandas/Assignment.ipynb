{
 "cells": [
  {
   "cell_type": "markdown",
   "id": "96c2131e-94ab-4d23-ac28-b453cf961c99",
   "metadata": {},
   "source": [
    "### Question 1\n",
    "Create a numpy array containing the numbers from 1 to 10, and then reshape it to a 2x5 matrix."
   ]
  },
  {
   "cell_type": "code",
   "execution_count": 11,
   "id": "c8beb2cb-1779-4c1f-b3a2-9d351e2ad19f",
   "metadata": {},
   "outputs": [
    {
     "name": "stdout",
     "output_type": "stream",
     "text": [
      "[[ 1  2  3  4  5]\n",
      " [ 6  7  8  9 10]]\n",
      "(2, 5)\n"
     ]
    }
   ],
   "source": [
    "import numpy as np\n",
    "a1 = np.arange(1, 11)\n",
    "matrix_a1 = a1.reshape(2, 5)\n",
    "print(matrix_a1)\n",
    "print(matrix_a1.shape)\n"
   ]
  },
  {
   "cell_type": "markdown",
   "id": "3e9ad173-40ab-425b-ad23-bd58e72a1b9e",
   "metadata": {},
   "source": [
    "### Questio 2\n",
    "Create a numpy array containing the numbers from 1 to 20, and then extract the elements between the 5th and 15th index."
   ]
  },
  {
   "cell_type": "code",
   "execution_count": 7,
   "id": "3ef4f4a3-2962-4e20-8ac8-b7e602a22379",
   "metadata": {},
   "outputs": [
    {
     "name": "stdout",
     "output_type": "stream",
     "text": [
      "[ 6  7  8  9 10 11 12 13 14 15 16]\n"
     ]
    }
   ],
   "source": [
    "import numpy as np\n",
    "a2=np.arange(1,21)\n",
    "print(a2[5:16])"
   ]
  },
  {
   "cell_type": "markdown",
   "id": "6a60fcf0-bdff-4e0e-892a-54ca72c67907",
   "metadata": {},
   "source": [
    "### Question 3\n",
    "Create a Pandas series with the following data: {'apples': 3, 'bananas': 2, 'oranges': 1}. \n",
    "Then, add a new item to the series with the key 'pears' and the value 4."
   ]
  },
  {
   "cell_type": "code",
   "execution_count": 10,
   "id": "9afb5b0b-e188-4a60-ba73-111fcde0e719",
   "metadata": {},
   "outputs": [
    {
     "name": "stdout",
     "output_type": "stream",
     "text": [
      "apples     3\n",
      "bananas    2\n",
      "oranges    1\n",
      "pears      4\n",
      "dtype: int64\n"
     ]
    }
   ],
   "source": [
    "import pandas as pd\n",
    "\n",
    "# Create a Pandas series with the given data\n",
    "data = {'apples': 3, 'bananas': 2, 'oranges': 1}\n",
    "series = pd.Series(data)\n",
    "\n",
    "# Add a new item to the series\n",
    "series['pears'] = 4\n",
    "\n",
    "# Display the updated series\n",
    "print(series)\n"
   ]
  },
  {
   "cell_type": "markdown",
   "id": "e5c25e28-bcfa-4fba-b8ce-b9292d47b574",
   "metadata": {},
   "source": [
    "### Question 4\n",
    "Create a dataframe with the following columns: name, age, and gender. The dataframe should have 10 rows of data.\n"
   ]
  },
  {
   "cell_type": "code",
   "execution_count": 2,
   "id": "09824b94-1e24-4578-b53a-bac91f163713",
   "metadata": {},
   "outputs": [
    {
     "name": "stdout",
     "output_type": "stream",
     "text": [
      "      name  age  gender\n",
      "0  Aravind   23    Male\n",
      "1   Ritwik   34    Male\n",
      "2    Harry   45    Male\n",
      "3      Lal   28    Male\n",
      "4     Malu   33  Female\n",
      "5   Nirupa   36  Female\n",
      "6    Grace   29  Female\n",
      "7    Annie   40  Female\n",
      "8    Akhil   22    Male\n",
      "9     Maya   26  Female\n"
     ]
    }
   ],
   "source": [
    "import pandas as pd\n",
    "\n",
    "data = {\n",
    "    'name': ['Aravind', 'Ritwik', 'Harry', 'Lal', 'Malu', 'Nirupa', 'Grace', 'Annie', 'Akhil', 'Maya'],\n",
    "    'age': [23, 34, 45, 28, 33, 36, 29, 40, 22, 26],\n",
    "    'gender': ['Male', 'Male', 'Male', 'Male', 'Female', 'Female', 'Female', 'Female', 'Male', 'Female']\n",
    "}\n",
    "\n",
    "df = pd.DataFrame(data)\n",
    "\n",
    "print(df)\n"
   ]
  },
  {
   "cell_type": "markdown",
   "id": "8bc213c7-b30c-476e-b55f-d2a886161332",
   "metadata": {},
   "source": [
    "### Question 5\n",
    "Add a new column to the data frame created in question 1, called occupation. The values for this column should be Programmer, Manager, and Analyst, corresponding to the rows in the dataframe.\n"
   ]
  },
  {
   "cell_type": "code",
   "execution_count": 6,
   "id": "33e1c41b-66f6-4741-8add-679df93ae607",
   "metadata": {},
   "outputs": [
    {
     "name": "stdout",
     "output_type": "stream",
     "text": [
      "      name  age  gender  occupation\n",
      "0  Aravind   23    Male  Programmer\n",
      "1   Ritwik   34    Male     Manager\n",
      "2    Harry   45    Male     Analyst\n",
      "3      Lal   28    Male     Teacher\n",
      "4     Malu   33  Female     Manager\n",
      "5   Nirupa   36  Female     Analyst\n",
      "6    Grace   29  Female  Programmer\n",
      "7    Annie   40  Female     Manager\n",
      "8    Akhil   22    Male     Analyst\n",
      "9     Maya   26  Female     Teacher\n"
     ]
    }
   ],
   "source": [
    "df['occupation'] = ['Programmer', 'Manager', 'Analyst', 'Teacher', 'Manager', \n",
    "                     'Analyst', 'Programmer', 'Manager', 'Analyst', 'Teacher']\n",
    "print(df)\n"
   ]
  },
  {
   "cell_type": "markdown",
   "id": "b68e91f7-f77b-4d02-8c70-b18828c47745",
   "metadata": {},
   "source": [
    "### Question 6\n",
    "Select the rows of the dataframe where the age is greater than or equal to 30.\n"
   ]
  },
  {
   "cell_type": "code",
   "execution_count": 9,
   "id": "0e140a93-2309-4511-b947-056a0e5f7a59",
   "metadata": {},
   "outputs": [
    {
     "name": "stdout",
     "output_type": "stream",
     "text": [
      "     name  age  gender occupation\n",
      "1  Ritwik   34    Male    Manager\n",
      "2   Harry   45    Male    Analyst\n",
      "4    Malu   33  Female    Manager\n",
      "5  Nirupa   36  Female    Analyst\n",
      "7   Annie   40  Female    Manager\n"
     ]
    }
   ],
   "source": [
    "updated_df = df[df['age'] >= 30]\n",
    "\n",
    "print(updated_df)\n"
   ]
  },
  {
   "cell_type": "markdown",
   "id": "28c34209-8a16-4569-8044-3acdb07a8e63",
   "metadata": {},
   "source": [
    "### Question 7\n",
    "Convert this dataframe to a csv file and read that csv file, finally display the contents.\n"
   ]
  },
  {
   "cell_type": "code",
   "execution_count": 10,
   "id": "27b237ee-7400-4a25-919f-f9678cedbc9a",
   "metadata": {},
   "outputs": [
    {
     "name": "stdout",
     "output_type": "stream",
     "text": [
      "      name  age  gender  occupation\n",
      "0  Aravind   23    Male  Programmer\n",
      "1   Ritwik   34    Male     Manager\n",
      "2    Harry   45    Male     Analyst\n",
      "3      Lal   28    Male     Teacher\n",
      "4     Malu   33  Female     Manager\n",
      "5   Nirupa   36  Female     Analyst\n",
      "6    Grace   29  Female  Programmer\n",
      "7    Annie   40  Female     Manager\n",
      "8    Akhil   22    Male     Analyst\n",
      "9     Maya   26  Female     Teacher\n"
     ]
    }
   ],
   "source": [
    "# Save the DataFrame to a CSV file\n",
    "df.to_csv('dataframe.csv', index=False)\n",
    "\n",
    "# Read the CSV file back into a new DataFrame\n",
    "file_contents = pd.read_csv('dataframe.csv')\n",
    "\n",
    "# Display the contents of the new DataFrame\n",
    "print(file_contents)\n"
   ]
  }
 ],
 "metadata": {
  "kernelspec": {
   "display_name": "Python 3 (ipykernel)",
   "language": "python",
   "name": "python3"
  },
  "language_info": {
   "codemirror_mode": {
    "name": "ipython",
    "version": 3
   },
   "file_extension": ".py",
   "mimetype": "text/x-python",
   "name": "python",
   "nbconvert_exporter": "python",
   "pygments_lexer": "ipython3",
   "version": "3.12.4"
  }
 },
 "nbformat": 4,
 "nbformat_minor": 5
}
